{
 "cells": [
  {
   "cell_type": "code",
   "execution_count": 86,
   "id": "b143fa43",
   "metadata": {},
   "outputs": [],
   "source": [
    "import numpy as np\n",
    "import matplotlib.pyplot as plt\n",
    "from scipy.optimize import curve_fit\n",
    "from scipy.signal import find_peaks\n",
    "from sklearn.discriminant_analysis import LinearDiscriminantAnalysis\n",
    "from sklearn.model_selection import train_test_split"
   ]
  },
  {
   "cell_type": "code",
   "execution_count": 87,
   "id": "92f286cb",
   "metadata": {},
   "outputs": [],
   "source": [
    "from qiskit.pulse import DriveChannel\n",
    "from qiskit.compiler import assemble\n",
    "from qiskit.qobj.utils import MeasLevel, MeasReturnType"
   ]
  },
  {
   "cell_type": "code",
   "execution_count": 88,
   "id": "46d8419d",
   "metadata": {},
   "outputs": [],
   "source": [
    "from qiskit.providers.aer import PulseSimulator\n",
    "\n",
    "# Object for representing physical models\n",
    "from qiskit.providers.aer.pulse import PulseSystemModel\n",
    "\n",
    "# Mock Armonk backend\n",
    "from qiskit.test.mock.backends.armonk.fake_armonk import FakeArmonk"
   ]
  },
  {
   "cell_type": "code",
   "execution_count": 89,
   "id": "c67e8734",
   "metadata": {},
   "outputs": [],
   "source": [
    "backend = FakeArmonk()\n",
    "armonk_model = PulseSystemModel.from_backend(backend)\n",
    "backend_sim = PulseSimulator()"
   ]
  },
  {
   "cell_type": "code",
   "execution_count": 90,
   "id": "5048f3da",
   "metadata": {},
   "outputs": [
    {
     "name": "stdout",
     "output_type": "stream",
     "text": [
      "4.971852852405576 GHz - frequency\n",
      "\n",
      "0.2222222222222222 - ns\n"
     ]
    }
   ],
   "source": [
    "defaults = backend.defaults()\n",
    "config = backend.configuration()\n",
    "\n",
    "GHz= 1e9\n",
    "MHz = 1e6\n",
    "ns = 1e-9\n",
    "us = 1e-6\n",
    "\n",
    "default_qubit_freq = defaults.qubit_freq_est[qubit]\n",
    "\n",
    "dt = config.dt\n",
    "\n",
    "print(default_qubit_freq/GHz, 'GHz - frequency\\n')\n",
    "print(dt/ns, '- ns')\n"
   ]
  },
  {
   "cell_type": "code",
   "execution_count": 91,
   "id": "b0a351e2",
   "metadata": {},
   "outputs": [],
   "source": [
    "def get_closest_multiple_of_16(num):\n",
    "    \"\"\"Compute the nearest multiple of 16. Needed because pulse enabled devices require \n",
    "    durations which are multiples of 16 samples.\n",
    "    \"\"\"\n",
    "    return (int(num) - (int(num)%16))"
   ]
  },
  {
   "cell_type": "code",
   "execution_count": 92,
   "id": "ba809809",
   "metadata": {},
   "outputs": [],
   "source": [
    "### Collect the necessary channels\n",
    "drive_chan = pulse.DriveChannel(qubit)\n",
    "meas_chan = pulse.MeasureChannel(qubit)\n",
    "acq_chan = pulse.AcquireChannel(qubit)"
   ]
  },
  {
   "cell_type": "code",
   "execution_count": 103,
   "id": "6929306c",
   "metadata": {},
   "outputs": [
    {
     "name": "stdout",
     "output_type": "stream",
     "text": [
      "336 2688\n"
     ]
    }
   ],
   "source": [
    "# Drive pulse parameters (us = microseconds)\n",
    "drive_sigma_us = 0.075                     # This determines the actual width of the gaussian\n",
    "drive_samples_us = drive_sigma_us*8        # This is a truncating parameter, because gaussians don't have \n",
    "                                           # a natural finite length\n",
    "\n",
    "drive_sigma = get_closest_multiple_of_16(drive_sigma_us * us /dt)       # The width of the gaussian in units of dt\n",
    "drive_samples = get_closest_multiple_of_16(drive_samples_us * us /dt) # The truncating parameter in units of dt\n",
    "\n",
    "print (drive_sigma, drive_samples)"
   ]
  },
  {
   "cell_type": "code",
   "execution_count": 104,
   "id": "1bcb7816",
   "metadata": {},
   "outputs": [],
   "source": [
    "# Get default measurement pulse from instruction schedule map\n",
    "inst_sched_map = backend_defaults.instruction_schedule_map\n",
    "measure = inst_sched_map.get('measure', qubits=backend_config.meas_map[meas_map_idx])"
   ]
  },
  {
   "cell_type": "code",
   "execution_count": 95,
   "id": "1421d05a",
   "metadata": {},
   "outputs": [],
   "source": [
    "def create_ground_freq_sweep_program(freqs, drive_power):\n",
    "    \"\"\"Builds a program that does a freq sweep by exciting the ground state. \n",
    "    Depending on drive power this can reveal the 0->1 frequency or the 0->2 frequency. \n",
    "    Args:\n",
    "        freqs (np.ndarray(dtype=float)): Numpy array of frequencies to sweep.\n",
    "        drive_power (float) : Value of drive amplitude.\n",
    "    Raises:\n",
    "        ValueError: Raised if use more than 75 frequencies; currently, an error will be thrown on the backend \n",
    "                    if you try to do this.\n",
    "    Returns:\n",
    "        Qobj: Program for ground freq sweep experiment.\n",
    "    \"\"\"\n",
    "    if len(freqs) > 75:\n",
    "        raise ValueError(\"You can only run 75 schedules at a time.\")\n",
    "    \n",
    "    # print information on the sweep\n",
    "    print(f\"The frequency sweep will go from {freqs[0] / GHz} GHz to {freqs[-1]/ GHz} GHz \\\n",
    "using {len(freqs)} frequencies. The drive power is {drive_power}.\")\n",
    "    \n",
    "    # Define the drive pulse\n",
    "    ground_sweep_drive_pulse = pulse_lib.gaussian(duration=drive_samples,\n",
    "                                                  sigma=drive_sigma,\n",
    "                                                  amp=drive_power,\n",
    "                                                  name='ground_sweep_drive_pulse')\n",
    "    # Create the base schedule\n",
    "    schedule = pulse.Schedule(name='Frequency sweep starting from ground state.')\n",
    "    \n",
    "    schedule |= pulse.Play(ground_sweep_drive_pulse, drive_chan)\n",
    "    schedule |= measure << schedule.duration\n",
    "    \n",
    "    # define frequencies for the sweep\n",
    "    schedule_freqs = [{drive_chan: freq} for freq in freqs]\n",
    "\n",
    "    # assemble the program\n",
    "    # Note: we only require a single schedule since each does the same thing;\n",
    "    # for each schedule, the LO frequency that mixes down the drive changes\n",
    "    # this enables our frequency sweep\n",
    "    ground_freq_sweep_program = assemble(schedule,\n",
    "                                         backend=backend, \n",
    "                                         meas_level=1,\n",
    "                                         meas_return='avg',\n",
    "                                         shots=NUM_SHOTS,\n",
    "                                         schedule_los=schedule_freqs)\n",
    "    \n",
    "    return ground_freq_sweep_program"
   ]
  },
  {
   "cell_type": "code",
   "execution_count": 96,
   "id": "13203cff",
   "metadata": {},
   "outputs": [],
   "source": [
    "def get_job_data(job, average):\n",
    "    \"\"\"Retrieve data from a job that has already run.\n",
    "    Args:\n",
    "        job (Job): The job whose data you want.\n",
    "        average (bool): If True, gets the data assuming data is an average.\n",
    "                        If False, gets the data assuming it is for single shots.\n",
    "    Return:\n",
    "        list: List containing job result data. \n",
    "    \"\"\"\n",
    "    job_results = job.result(timeout=120) # timeout parameter set to 120 s\n",
    "    result_data = []\n",
    "    for i in range(len(job_results.results)):\n",
    "        if average: # get avg data\n",
    "            result_data.append(job_results.get_memory(i)[qubit]*scale_factor) \n",
    "        else: # get single data\n",
    "            result_data.append(job_results.get_memory(i)[:, qubit]*scale_factor)  \n",
    "    return result_data\n",
    "\n",
    "def get_closest_multiple_of_16(num):\n",
    "    \"\"\"Compute the nearest multiple of 16. Needed because pulse enabled devices require \n",
    "    durations which are multiples of 16 samples.\n",
    "    \"\"\"\n",
    "    return (int(num) - (int(num)%16))"
   ]
  },
  {
   "cell_type": "code",
   "execution_count": 97,
   "id": "06b9f16c",
   "metadata": {},
   "outputs": [
    {
     "name": "stdout",
     "output_type": "stream",
     "text": [
      "The frequency sweep will go from 4.951852852405576 GHz to 4.991852852405576 GHz using 75 frequencies. The drive power is 0.3.\n"
     ]
    }
   ],
   "source": [
    "# We will sweep 40 MHz around the estimated frequency, with 75 frequencies\n",
    "num_freqs = 75\n",
    "ground_sweep_freqs = default_qubit_freq + np.linspace(-20*MHz, 20*MHz, num_freqs)\n",
    "ground_freq_sweep_program = create_ground_freq_sweep_program(ground_sweep_freqs, drive_power=0.3)"
   ]
  },
  {
   "cell_type": "code",
   "execution_count": 98,
   "id": "3a3a7f34",
   "metadata": {},
   "outputs": [],
   "source": [
    "sim_result = backend_sim.run(ground_freq_sweep_program, armonk_model).result()"
   ]
  },
  {
   "cell_type": "code",
   "execution_count": 99,
   "id": "45b65727",
   "metadata": {},
   "outputs": [],
   "source": [
    "ground_freq_sweep_data = get_job_data(ground_freq_sweep_job, average=True)"
   ]
  },
  {
   "cell_type": "code",
   "execution_count": 100,
   "id": "121665ab",
   "metadata": {},
   "outputs": [],
   "source": [
    "def fit_function(x_values, y_values, function, init_params):\n",
    "    \"\"\"Fit a function using scipy curve_fit.\"\"\"\n",
    "    fitparams, conv = curve_fit(function, x_values, y_values, init_params)\n",
    "    y_fit = function(x_values, *fitparams)\n",
    "    \n",
    "    return fitparams, y_fit"
   ]
  },
  {
   "cell_type": "code",
   "execution_count": 101,
   "id": "ed965fb8",
   "metadata": {},
   "outputs": [],
   "source": [
    "# do fit in Hz\n",
    "(ground_sweep_fit_params, \n",
    " ground_sweep_y_fit) = fit_function(ground_sweep_freqs,\n",
    "                                   ground_freq_sweep_data, \n",
    "                                   lambda x, A, q_freq, B, C: (A / np.pi) * (B / ((x - q_freq)**2 + B**2)) + C,\n",
    "                                   [7, 4.975*GHz, 1*GHz, 3*GHz] # initial parameters for curve_fit\n",
    "                                   )"
   ]
  },
  {
   "cell_type": "code",
   "execution_count": 102,
   "id": "d6148fba",
   "metadata": {
    "scrolled": true
   },
   "outputs": [
    {
     "data": {
      "image/png": "[encoded data removed]",
      "text/plain": [
       "<Figure size 432x288 with 1 Axes>"
      ]
     },
     "metadata": {
      "needs_background": "light"
     },
     "output_type": "display_data"
    }
   ],
   "source": [
    "# Note: we are only plotting the real part of the signal\n",
    "plt.scatter(ground_sweep_freqs/GHz, ground_freq_sweep_data, color='black')\n",
    "plt.plot(ground_sweep_freqs/GHz, ground_sweep_y_fit, color='red')\n",
    "plt.xlim([min(ground_sweep_freqs/GHz), max(ground_sweep_freqs/GHz)])\n",
    "plt.xlabel(\"Frequency [GHz]\", fontsize=15)\n",
    "plt.ylabel(\"Measured Signal [a.u.]\", fontsize=15)\n",
    "plt.title(\"0->1 Frequency Sweep\", fontsize=15)\n",
    "plt.show()"
   ]
  },
  {
   "cell_type": "code",
   "execution_count": null,
   "id": "c0f2d310",
   "metadata": {},
   "outputs": [],
   "source": []
  }
 ],
 "metadata": {
  "kernelspec": {
   "display_name": "Python 3",
   "language": "python",
   "name": "python3"
  },
  "language_info": {
   "codemirror_mode": {
    "name": "ipython",
    "version": 3
   },
   "file_extension": ".py",
   "mimetype": "text/x-python",
   "name": "python",
   "nbconvert_exporter": "python",
   "pygments_lexer": "ipython3",
   "version": "3.8.8"
  }
 },
 "nbformat": 4,
 "nbformat_minor": 5
}
